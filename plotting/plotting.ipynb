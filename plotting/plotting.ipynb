{
 "cells": [
  {
   "metadata": {
    "ExecuteTime": {
     "end_time": "2025-01-09T16:36:49.616211Z",
     "start_time": "2025-01-09T16:36:49.614248Z"
    }
   },
   "cell_type": "code",
   "source": [
    "import json\n",
    "import matplotlib.pyplot as plt\n",
    "import scipy.optimize"
   ],
   "id": "2567cddffdeb2300",
   "outputs": [],
   "execution_count": 208
  },
  {
   "metadata": {
    "ExecuteTime": {
     "end_time": "2025-01-09T16:36:49.625656Z",
     "start_time": "2025-01-09T16:36:49.623197Z"
    }
   },
   "cell_type": "code",
   "source": [
    "prefix = \"ecdlp\"\n",
    "data_folder = \"/mnt/c/Users/Lukas/Development/Personal/Python/BSc_figures/plotting/results_ecdlp\"\n",
    "data_range = range(3, 8)\n",
    "choice_metrics = [\"gate_count\", \"gate_depth\", \"cz_count\", \"cz_depth\"]\n",
    "# don't need a choice metric display, we can simply use the eval metrics display.\n",
    "eval_metrics = [\"gate_count\", \"gate_depth\", \"cz_count\", \"cz_depth\"]\n",
    "eval_metrics_display = [\"Gate Count\", \"Gate Depth\", \"CZ Count\", \"CZ Depth\"]\n",
    "eval_metrics_desc = [\"Average number of gates in circuit\", \"Average depth of circuit\", \"Average number of CZ operations in circuit\", \"Average depth of CZ operations in circuit\"]\n",
    "eval_averages = [f\"{metric}_average\" for metric in eval_metrics]"
   ],
   "id": "e04ff94eb49e8f74",
   "outputs": [],
   "execution_count": 209
  },
  {
   "metadata": {
    "ExecuteTime": {
     "end_time": "2025-01-09T16:36:49.673471Z",
     "start_time": "2025-01-09T16:36:49.670412Z"
    }
   },
   "cell_type": "code",
   "source": [
    "def get_and_plot_data(mode, mode_display, choice_metric, choice_metric_display):\n",
    "    \"\"\"\n",
    "\n",
    "    :param mode: A mode in [\"low_width\", \"medium_width\", \"high_width\"]\n",
    "    :param mode_display: A display string for the width, e.g. 'low width'.\n",
    "    :param choice_metric: A choice metric in [\"gate_count\", \"gate_depth\", \"cz_count\", \"cz_depth\"]\n",
    "    :param choice_metric_display: A display string for the choice metric, e.g. \"gate count\".\n",
    "    :return:\n",
    "    \"\"\"\n",
    "\n",
    "\n",
    "    mode_folder = f\"{data_folder}/{mode}\"\n",
    "\n",
    "    average_values = {\n",
    "        \"gate_count\": [],\n",
    "        \"gate_depth\": [],\n",
    "        \"cz_count\": [],\n",
    "        \"cz_depth\": []\n",
    "    }\n",
    "    # Read in file:\n",
    "    for x in data_range:\n",
    "        json_file = f\"{mode_folder}/{choice_metric}_{x}.json\"\n",
    "        with open(json_file, \"r\") as file:\n",
    "            data = json.load(file)\n",
    "\n",
    "        for eval_metric in eval_metrics:\n",
    "            average_values[eval_metric].append(data[\"results\"][f\"{eval_metric}_average\"])\n",
    "    # We have 6 evaluation metrics, we will plot as a 2x3 plot.\n",
    "    fig, axes = plt.subplots(2, 2, figsize=(15, 10))\n",
    "    axes = axes.flatten()  # Flatten to iterate over\n",
    "\n",
    "    # Plot each metric in its subplot\n",
    "    for i, metric in enumerate(eval_metrics):\n",
    "        ax = axes[i]\n",
    "\n",
    "        # Plot values for individual instances\n",
    "        x = list(data_range)\n",
    "        ax.plot(x, average_values[metric], color=\"blue\", alpha=0.7)\n",
    "\n",
    "        # Formatting\n",
    "        ax.set_title(eval_metrics_display[i])\n",
    "        ax.set_xlabel(\"Bit-length of instances.\")\n",
    "        ax.set_ylabel(eval_metrics_desc[i])\n",
    "        ax.set_yscale('log')\n",
    "        # ax.ticklabel_format(useOffset=False, style='plain')\n",
    "\n",
    "        fig.suptitle(f\"Evaluation metrics after greedy choice of components using the {choice_metric_display} as a metric with {mode_display}.\")\n",
    "\n",
    "    # Adjust layout and show plot\n",
    "    plt.tight_layout()\n",
    "    plt.show()"
   ],
   "id": "46eca6b6765a8306",
   "outputs": [],
   "execution_count": 210
  },
  {
   "metadata": {
    "ExecuteTime": {
     "end_time": "2025-01-09T16:36:49.722645Z",
     "start_time": "2025-01-09T16:36:49.720319Z"
    }
   },
   "cell_type": "code",
   "source": [
    "import os\n",
    "import matplotlib as mpl\n",
    "\n",
    "# Default installation PATH for TeXLive.\n",
    "os.environ[\"PATH\"] += os.pathsep + \"/usr/local/texlive/2024/bin/x86_64-linux/\"\n",
    "\n",
    "plt.close('all')\n",
    "mpl.use(\"pgf\")\n",
    "preamble = \"\\n\".join([\n",
    "    r\"\\usepackage{amsmath}\",\n",
    "    r\"\\usepackage{amsfonts}\",\n",
    "    r\"\\usepackage{amssymb}\"\n",
    "])\n",
    "mpl.rcParams.update({\n",
    "    \"pgf.texsystem\": \"pdflatex\",\n",
    "    'pgf.rcfonts': False,\n",
    "    'pgf.preamble': preamble,\n",
    "    'font.family': 'serif',\n",
    "    'text.usetex': True,\n",
    "    'text.latex.preamble': preamble,\n",
    "    'figure.dpi': 180\n",
    "})"
   ],
   "id": "5d35ac00f3a0316",
   "outputs": [],
   "execution_count": 211
  },
  {
   "metadata": {
    "ExecuteTime": {
     "end_time": "2025-01-09T16:36:49.986817Z",
     "start_time": "2025-01-09T16:36:49.734416Z"
    }
   },
   "cell_type": "code",
   "source": "get_and_plot_data(\"low_width\", \"low width\", \"gate_count\", \"gate count\")",
   "id": "34b224a50cbe221a",
   "outputs": [
    {
     "name": "stderr",
     "output_type": "stream",
     "text": [
      "/tmp/ipykernel_12231/499247126.py:51: UserWarning: FigureCanvasPgf is non-interactive, and thus cannot be shown\n",
      "  plt.show()\n"
     ]
    }
   ],
   "execution_count": 212
  },
  {
   "metadata": {
    "ExecuteTime": {
     "end_time": "2025-01-09T16:36:50.151535Z",
     "start_time": "2025-01-09T16:36:49.992766Z"
    }
   },
   "cell_type": "code",
   "source": "get_and_plot_data(\"low_width\", \"low width\", \"gate_depth\", \"gate depth\")",
   "id": "21040961adc4fe98",
   "outputs": [
    {
     "name": "stderr",
     "output_type": "stream",
     "text": [
      "/tmp/ipykernel_12231/499247126.py:51: UserWarning: FigureCanvasPgf is non-interactive, and thus cannot be shown\n",
      "  plt.show()\n"
     ]
    }
   ],
   "execution_count": 213
  },
  {
   "metadata": {
    "ExecuteTime": {
     "end_time": "2025-01-09T16:36:50.396805Z",
     "start_time": "2025-01-09T16:36:50.180695Z"
    }
   },
   "cell_type": "code",
   "source": "get_and_plot_data( \"low_width\", \"low width\", \"cz_count\", \"CZ count\")",
   "id": "f92c03c11b732deb",
   "outputs": [
    {
     "name": "stderr",
     "output_type": "stream",
     "text": [
      "/tmp/ipykernel_12231/499247126.py:51: UserWarning: FigureCanvasPgf is non-interactive, and thus cannot be shown\n",
      "  plt.show()\n"
     ]
    }
   ],
   "execution_count": 214
  },
  {
   "metadata": {
    "ExecuteTime": {
     "end_time": "2025-01-09T16:36:50.554216Z",
     "start_time": "2025-01-09T16:36:50.399305Z"
    }
   },
   "cell_type": "code",
   "source": "get_and_plot_data(\"low_width\", \"low width\", \"cz_depth\", \"CZ depth\")",
   "id": "8d1bdc7d8cfe9859",
   "outputs": [
    {
     "name": "stderr",
     "output_type": "stream",
     "text": [
      "/tmp/ipykernel_12231/499247126.py:51: UserWarning: FigureCanvasPgf is non-interactive, and thus cannot be shown\n",
      "  plt.show()\n"
     ]
    }
   ],
   "execution_count": 215
  },
  {
   "metadata": {
    "ExecuteTime": {
     "end_time": "2025-01-09T16:36:50.563198Z",
     "start_time": "2025-01-09T16:36:50.559520Z"
    }
   },
   "cell_type": "code",
   "source": [
    "from matplotlib.ticker import MaxNLocator\n",
    "\n",
    "\n",
    "def get_and_save_data_same_plots(mode, mode_display):\n",
    "    \"\"\"\n",
    "\n",
    "    :param mode: A mode in [\"low_width\", \"medium_width\", \"high_width\"]\n",
    "    :param mode_display: A display string for the width, e.g. 'low width'.\n",
    "    :return:\n",
    "    \"\"\"\n",
    "\n",
    "\n",
    "    mode_folder = f\"{data_folder}/{mode}\"\n",
    "\n",
    "\n",
    "\n",
    "    all_averages = []\n",
    "    for choice_metric in choice_metrics:\n",
    "        average_values = {\n",
    "            \"gate_count\": [],\n",
    "            \"gate_depth\": [],\n",
    "            \"cz_count\": [],\n",
    "            \"cz_depth\": [],\n",
    "            #\"t_count\": [],\n",
    "            #\"t_depth\": []\n",
    "        }\n",
    "        # Read in file:\n",
    "        for x in data_range:\n",
    "            json_file = f\"{mode_folder}/{choice_metric}_{x}.json\"\n",
    "            with open(json_file, \"r\") as file:\n",
    "                data = json.load(file)\n",
    "\n",
    "            for eval_metric in eval_metrics:\n",
    "                average_values[eval_metric].append(data[\"results\"][f\"{eval_metric}_average\"])\n",
    "        all_averages.append(average_values)\n",
    "\n",
    "\n",
    "    # Plot each metric in its own plot.\n",
    "    for i, metric in enumerate(eval_metrics):\n",
    "        # We have 4 evaluation metrics, we will plot as a 1x4 (WxH) plot.\n",
    "        fig, ax = plt.subplots(figsize=(8, 8))\n",
    "\n",
    "        # Plot values for individual instances\n",
    "        x = list(data_range)\n",
    "        colors = [\"blue\", \"red\", \"green\", \"yellow\"]\n",
    "        for j, choice_metric in enumerate(choice_metrics):\n",
    "            ax.plot(x, all_averages[j][metric], label=eval_metrics_display[j], color=colors[j], alpha=0.7)\n",
    "\n",
    "        # Formatting\n",
    "        ax.set_title(eval_metrics_display[i])\n",
    "        ax.set_xlabel(\"Bit-length of instances.\", fontsize=18)\n",
    "        ax.set_ylabel(eval_metrics_desc[i], fontsize=18)\n",
    "        ax.set_yscale('log')\n",
    "        #ax.ticklabel_format(useOffset=False, style='plain')\n",
    "\n",
    "        ax.legend(title=\"Choice Metric\", loc=\"upper left\", fontsize=16, title_fontsize=16)\n",
    "        plt.gca().xaxis.set_major_locator(MaxNLocator(integer=True))\n",
    "\n",
    "        plt.title(f\"{eval_metrics_desc[i]} ({mode_display}) after greedily \\n choosing components according to various choice metrics.\", fontsize=16)\n",
    "\n",
    "        plt.tight_layout(rect=[0, 0.03, 1, 0.95])\n",
    "        # plt.show()\n",
    "        plt.savefig(f\"{prefix}_{mode}_{i}_comp.pgf\")"
   ],
   "id": "5f374419c90f923e",
   "outputs": [],
   "execution_count": 216
  },
  {
   "metadata": {
    "ExecuteTime": {
     "end_time": "2025-01-09T16:36:50.602345Z",
     "start_time": "2025-01-09T16:36:50.600418Z"
    }
   },
   "cell_type": "code",
   "source": "# get_and_save_data_same_plots(\"low_width\", \"low width\")",
   "id": "f21190e5b2174c01",
   "outputs": [],
   "execution_count": 217
  },
  {
   "metadata": {
    "ExecuteTime": {
     "end_time": "2025-01-09T16:36:50.652351Z",
     "start_time": "2025-01-09T16:36:50.650381Z"
    }
   },
   "cell_type": "code",
   "source": "# get_and_save_data_same_plots(\"medium_width\", \"medium width\")",
   "id": "868eee6ab88fc4b1",
   "outputs": [],
   "execution_count": 218
  },
  {
   "metadata": {
    "ExecuteTime": {
     "end_time": "2025-01-09T16:36:51.179914Z",
     "start_time": "2025-01-09T16:36:50.700425Z"
    }
   },
   "cell_type": "code",
   "source": "get_and_save_data_same_plots(\"high_width\", \"high width\")",
   "id": "689a3c3cb23a8e81",
   "outputs": [],
   "execution_count": 219
  },
  {
   "metadata": {
    "ExecuteTime": {
     "end_time": "2025-01-09T16:36:51.197032Z",
     "start_time": "2025-01-09T16:36:51.185286Z"
    }
   },
   "cell_type": "code",
   "source": [
    "# Calculating the best-fit curve\n",
    "mode = \"low_width\"\n",
    "eval_metric = \"cz_count\"\n",
    "choice_metric = \"cz_count\"\n",
    "\n",
    "mode_folder = f\"{data_folder}/{mode}\"\n",
    "\n",
    "average = []\n",
    "# Read in file:\n",
    "for x in data_range:\n",
    "    json_file = f\"{mode_folder}/{choice_metric}_{x}.json\"\n",
    "    with open(json_file, \"r\") as file:\n",
    "        data = json.load(file)\n",
    "\n",
    "    average.append(data[\"results\"][f\"{eval_metric}_average\"])\n",
    "\n",
    "print(average) # optimised by gate_count\n"
   ],
   "id": "4b7b2513b92c982d",
   "outputs": [
    {
     "name": "stdout",
     "output_type": "stream",
     "text": [
      "[7227.0, 18390.0, 46842.0, 109926.0, 184185.0, 392712.5, 596699.5, 1275097.5]\n"
     ]
    }
   ],
   "execution_count": 220
  },
  {
   "metadata": {
    "ExecuteTime": {
     "end_time": "2025-01-09T16:36:51.280389Z",
     "start_time": "2025-01-09T16:36:51.249708Z"
    }
   },
   "cell_type": "code",
   "source": [
    "import numpy as np\n",
    "import scipy\n",
    "\n",
    "x = list(range(3, 8))\n",
    "y = average\n",
    "\n",
    "# calculate polynomial\n",
    "popt, pcov = scipy.optimize.curve_fit(lambda t,a,b: (a*np.log(t) + b)*(t*t*t), x, y)\n",
    "print(popt)\n",
    "\n",
    "# calculate new x's and y's\n",
    "x_new = np.linspace(x[0], x[-1], 50)\n",
    "y_new = (popt[0]*np.log(x_new) + popt[1])*(x_new*x_new*x_new)\n",
    "\n",
    "plt.plot(x,y,'o', x_new, y_new)\n",
    "plt.xlim([x[0]-1, x[-1] + 1 ])\n",
    "plt.yscale('log')\n",
    "plt.show()"
   ],
   "id": "796f9f735d8df41f",
   "outputs": [
    {
     "ename": "ValueError",
     "evalue": "operands could not be broadcast together with shapes (5,) (8,) ",
     "output_type": "error",
     "traceback": [
      "\u001B[0;31m---------------------------------------------------------------------------\u001B[0m",
      "\u001B[0;31mValueError\u001B[0m                                Traceback (most recent call last)",
      "Cell \u001B[0;32mIn[221], line 8\u001B[0m\n\u001B[1;32m      5\u001B[0m y \u001B[38;5;241m=\u001B[39m average\n\u001B[1;32m      7\u001B[0m \u001B[38;5;66;03m# calculate polynomial\u001B[39;00m\n\u001B[0;32m----> 8\u001B[0m popt, pcov \u001B[38;5;241m=\u001B[39m scipy\u001B[38;5;241m.\u001B[39moptimize\u001B[38;5;241m.\u001B[39mcurve_fit(\u001B[38;5;28;01mlambda\u001B[39;00m t,a,b: (a\u001B[38;5;241m*\u001B[39mnp\u001B[38;5;241m.\u001B[39mlog(t) \u001B[38;5;241m+\u001B[39m b)\u001B[38;5;241m*\u001B[39m(t\u001B[38;5;241m*\u001B[39mt\u001B[38;5;241m*\u001B[39mt), x, y)\n\u001B[1;32m      9\u001B[0m \u001B[38;5;28mprint\u001B[39m(popt)\n\u001B[1;32m     11\u001B[0m \u001B[38;5;66;03m# calculate new x's and y's\u001B[39;00m\n",
      "File \u001B[0;32m~/.pyenv/versions/miniconda3-3.12-24.9.2-0/envs/qc/lib/python3.12/site-packages/scipy/optimize/_minpack_py.py:1007\u001B[0m, in \u001B[0;36mcurve_fit\u001B[0;34m(f, xdata, ydata, p0, sigma, absolute_sigma, check_finite, bounds, method, jac, full_output, nan_policy, **kwargs)\u001B[0m\n\u001B[1;32m   1004\u001B[0m \u001B[38;5;28;01mif\u001B[39;00m ydata\u001B[38;5;241m.\u001B[39msize \u001B[38;5;241m!=\u001B[39m \u001B[38;5;241m1\u001B[39m \u001B[38;5;129;01mand\u001B[39;00m n \u001B[38;5;241m>\u001B[39m ydata\u001B[38;5;241m.\u001B[39msize:\n\u001B[1;32m   1005\u001B[0m     \u001B[38;5;28;01mraise\u001B[39;00m \u001B[38;5;167;01mTypeError\u001B[39;00m(\u001B[38;5;124mf\u001B[39m\u001B[38;5;124m\"\u001B[39m\u001B[38;5;124mThe number of func parameters=\u001B[39m\u001B[38;5;132;01m{\u001B[39;00mn\u001B[38;5;132;01m}\u001B[39;00m\u001B[38;5;124m must not\u001B[39m\u001B[38;5;124m\"\u001B[39m\n\u001B[1;32m   1006\u001B[0m                     \u001B[38;5;124mf\u001B[39m\u001B[38;5;124m\"\u001B[39m\u001B[38;5;124m exceed the number of data points=\u001B[39m\u001B[38;5;132;01m{\u001B[39;00mydata\u001B[38;5;241m.\u001B[39msize\u001B[38;5;132;01m}\u001B[39;00m\u001B[38;5;124m\"\u001B[39m)\n\u001B[0;32m-> 1007\u001B[0m res \u001B[38;5;241m=\u001B[39m leastsq(func, p0, Dfun\u001B[38;5;241m=\u001B[39mjac, full_output\u001B[38;5;241m=\u001B[39m\u001B[38;5;241m1\u001B[39m, \u001B[38;5;241m*\u001B[39m\u001B[38;5;241m*\u001B[39mkwargs)\n\u001B[1;32m   1008\u001B[0m popt, pcov, infodict, errmsg, ier \u001B[38;5;241m=\u001B[39m res\n\u001B[1;32m   1009\u001B[0m ysize \u001B[38;5;241m=\u001B[39m \u001B[38;5;28mlen\u001B[39m(infodict[\u001B[38;5;124m'\u001B[39m\u001B[38;5;124mfvec\u001B[39m\u001B[38;5;124m'\u001B[39m])\n",
      "File \u001B[0;32m~/.pyenv/versions/miniconda3-3.12-24.9.2-0/envs/qc/lib/python3.12/site-packages/scipy/optimize/_minpack_py.py:426\u001B[0m, in \u001B[0;36mleastsq\u001B[0;34m(func, x0, args, Dfun, full_output, col_deriv, ftol, xtol, gtol, maxfev, epsfcn, factor, diag)\u001B[0m\n\u001B[1;32m    424\u001B[0m \u001B[38;5;28;01mif\u001B[39;00m \u001B[38;5;129;01mnot\u001B[39;00m \u001B[38;5;28misinstance\u001B[39m(args, \u001B[38;5;28mtuple\u001B[39m):\n\u001B[1;32m    425\u001B[0m     args \u001B[38;5;241m=\u001B[39m (args,)\n\u001B[0;32m--> 426\u001B[0m shape, dtype \u001B[38;5;241m=\u001B[39m _check_func(\u001B[38;5;124m'\u001B[39m\u001B[38;5;124mleastsq\u001B[39m\u001B[38;5;124m'\u001B[39m, \u001B[38;5;124m'\u001B[39m\u001B[38;5;124mfunc\u001B[39m\u001B[38;5;124m'\u001B[39m, func, x0, args, n)\n\u001B[1;32m    427\u001B[0m m \u001B[38;5;241m=\u001B[39m shape[\u001B[38;5;241m0\u001B[39m]\n\u001B[1;32m    429\u001B[0m \u001B[38;5;28;01mif\u001B[39;00m n \u001B[38;5;241m>\u001B[39m m:\n",
      "File \u001B[0;32m~/.pyenv/versions/miniconda3-3.12-24.9.2-0/envs/qc/lib/python3.12/site-packages/scipy/optimize/_minpack_py.py:23\u001B[0m, in \u001B[0;36m_check_func\u001B[0;34m(checker, argname, thefunc, x0, args, numinputs, output_shape)\u001B[0m\n\u001B[1;32m     21\u001B[0m \u001B[38;5;28;01mdef\u001B[39;00m \u001B[38;5;21m_check_func\u001B[39m(checker, argname, thefunc, x0, args, numinputs,\n\u001B[1;32m     22\u001B[0m                 output_shape\u001B[38;5;241m=\u001B[39m\u001B[38;5;28;01mNone\u001B[39;00m):\n\u001B[0;32m---> 23\u001B[0m     res \u001B[38;5;241m=\u001B[39m atleast_1d(thefunc(\u001B[38;5;241m*\u001B[39m((x0[:numinputs],) \u001B[38;5;241m+\u001B[39m args)))\n\u001B[1;32m     24\u001B[0m     \u001B[38;5;28;01mif\u001B[39;00m (output_shape \u001B[38;5;129;01mis\u001B[39;00m \u001B[38;5;129;01mnot\u001B[39;00m \u001B[38;5;28;01mNone\u001B[39;00m) \u001B[38;5;129;01mand\u001B[39;00m (shape(res) \u001B[38;5;241m!=\u001B[39m output_shape):\n\u001B[1;32m     25\u001B[0m         \u001B[38;5;28;01mif\u001B[39;00m (output_shape[\u001B[38;5;241m0\u001B[39m] \u001B[38;5;241m!=\u001B[39m \u001B[38;5;241m1\u001B[39m):\n",
      "File \u001B[0;32m~/.pyenv/versions/miniconda3-3.12-24.9.2-0/envs/qc/lib/python3.12/site-packages/scipy/optimize/_minpack_py.py:524\u001B[0m, in \u001B[0;36m_lightweight_memoizer.<locals>._memoized_func\u001B[0;34m(params)\u001B[0m\n\u001B[1;32m    521\u001B[0m \u001B[38;5;28;01melif\u001B[39;00m _memoized_func\u001B[38;5;241m.\u001B[39mlast_params \u001B[38;5;129;01mis\u001B[39;00m \u001B[38;5;129;01mnot\u001B[39;00m \u001B[38;5;28;01mNone\u001B[39;00m:\n\u001B[1;32m    522\u001B[0m     _memoized_func\u001B[38;5;241m.\u001B[39mskip_lookup \u001B[38;5;241m=\u001B[39m \u001B[38;5;28;01mTrue\u001B[39;00m\n\u001B[0;32m--> 524\u001B[0m val \u001B[38;5;241m=\u001B[39m f(params)\n\u001B[1;32m    526\u001B[0m \u001B[38;5;28;01mif\u001B[39;00m _memoized_func\u001B[38;5;241m.\u001B[39mlast_params \u001B[38;5;129;01mis\u001B[39;00m \u001B[38;5;28;01mNone\u001B[39;00m:\n\u001B[1;32m    527\u001B[0m     _memoized_func\u001B[38;5;241m.\u001B[39mlast_params \u001B[38;5;241m=\u001B[39m np\u001B[38;5;241m.\u001B[39mcopy(params)\n",
      "File \u001B[0;32m~/.pyenv/versions/miniconda3-3.12-24.9.2-0/envs/qc/lib/python3.12/site-packages/scipy/optimize/_minpack_py.py:541\u001B[0m, in \u001B[0;36m_wrap_func.<locals>.func_wrapped\u001B[0;34m(params)\u001B[0m\n\u001B[1;32m    540\u001B[0m \u001B[38;5;28;01mdef\u001B[39;00m \u001B[38;5;21mfunc_wrapped\u001B[39m(params):\n\u001B[0;32m--> 541\u001B[0m     \u001B[38;5;28;01mreturn\u001B[39;00m func(xdata, \u001B[38;5;241m*\u001B[39mparams) \u001B[38;5;241m-\u001B[39m ydata\n",
      "\u001B[0;31mValueError\u001B[0m: operands could not be broadcast together with shapes (5,) (8,) "
     ]
    }
   ],
   "execution_count": 221
  },
  {
   "metadata": {
    "ExecuteTime": {
     "end_time": "2025-01-09T16:36:51.320133500Z",
     "start_time": "2025-01-09T16:36:46.641321Z"
    }
   },
   "cell_type": "code",
   "source": "",
   "id": "87a5567b2fea5f0b",
   "outputs": [],
   "execution_count": null
  }
 ],
 "metadata": {
  "kernelspec": {
   "display_name": "Python 3",
   "language": "python",
   "name": "python3"
  },
  "language_info": {
   "codemirror_mode": {
    "name": "ipython",
    "version": 2
   },
   "file_extension": ".py",
   "mimetype": "text/x-python",
   "name": "python",
   "nbconvert_exporter": "python",
   "pygments_lexer": "ipython2",
   "version": "2.7.6"
  }
 },
 "nbformat": 4,
 "nbformat_minor": 5
}
