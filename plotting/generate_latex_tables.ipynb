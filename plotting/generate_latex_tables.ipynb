{
 "cells": [
  {
   "cell_type": "code",
   "id": "initial_id",
   "metadata": {
    "collapsed": true,
    "ExecuteTime": {
     "end_time": "2024-12-16T16:16:18.367490Z",
     "start_time": "2024-12-16T16:16:18.365698Z"
    }
   },
   "source": "import json\n",
   "outputs": [],
   "execution_count": 44
  },
  {
   "metadata": {
    "ExecuteTime": {
     "end_time": "2024-12-16T16:16:18.382367Z",
     "start_time": "2024-12-16T16:16:18.379542Z"
    }
   },
   "cell_type": "code",
   "source": [
    "# Function to generate a LaTeX table based on the input data\n",
    "def generate_latex_table(data: []):\n",
    "    # LaTeX table header\n",
    "    latex_code = f\"\"\"\\\\hline\n",
    "\\\\SetRow{{blue9}} n & Width & Gate Count Avg. & Gate Depth Avg. & CZ Count Avg. & CZ Depth Avg. \\\\\\\\*\n",
    "\\\\hline\"\"\"\n",
    "    # Each entry in data, is one 'n'.\n",
    "    color = \"white\"\n",
    "    for n_data in data:\n",
    "        data_entry_1, data_entry_2, data_entry_3 = n_data\n",
    "        n = data_entry_2[\"n\"]\n",
    "        latex_code += f\"\\\\SetRow{{{color}}} \\\\SetCell[r=3]{{m}} {n} & {data_entry_1[\"width\"]} & {data_entry_1[\"results\"][\"gate_count_average\"]} & {data_entry_1[\"results\"][\"gate_depth_average\"]} & {data_entry_1[\"results\"][\"cz_count_average\"]} & {data_entry_1[\"results\"][\"cz_depth_average\"]} \\\\\\\\*\\n\" # \\\\cline{{2-6}}\\n\n",
    "        latex_code += f\"\\\\SetRow{{{color}}} & {data_entry_2[\"width\"]} & {data_entry_2[\"results\"][\"gate_count_average\"]} & {data_entry_2[\"results\"][\"gate_depth_average\"]} & {data_entry_2[\"results\"][\"cz_count_average\"]} & {data_entry_2[\"results\"][\"cz_depth_average\"]} \\\\\\\\*\\n\" # \\\\cline{{2-6}}\\n\n",
    "        latex_code += f\"\\\\SetRow{{{color}}} & {data_entry_3[\"width\"]} & {data_entry_3[\"results\"][\"gate_count_average\"]} & {data_entry_3[\"results\"][\"gate_depth_average\"]} & {data_entry_3[\"results\"][\"cz_count_average\"]} & {data_entry_3[\"results\"][\"cz_depth_average\"]} \\\\\\\\\\n\\\\hline\\n\" #\n",
    "\n",
    "        if color == \"blue9\":\n",
    "            color = \"white\"\n",
    "        elif color == \"white\":\n",
    "            color = \"blue9\"\n",
    "\n",
    "    return latex_code"
   ],
   "id": "a25ac8a03d28ea4d",
   "outputs": [],
   "execution_count": 45
  },
  {
   "metadata": {
    "ExecuteTime": {
     "end_time": "2024-12-16T16:16:18.453636Z",
     "start_time": "2024-12-16T16:16:18.423831Z"
    }
   },
   "cell_type": "code",
   "source": [
    "# Load JSON data from the file\n",
    "choice_metric = \"cz_count\"\n",
    "data = []\n",
    "# for n in range(3, 11):\n",
    "for n in range(3, 8):\n",
    "    n_data = []\n",
    "    for width in [\"low_width\", \"medium_width\", \"high_width\"]:\n",
    "        # with open(f\"./results_dlp/{width}/{choice_metric}_{n}.json\", \"r\") as json_file:\n",
    "        with open(f\"./results_ecdlp/{width}/{choice_metric}_{n}.json\", \"r\") as json_file:\n",
    "            data_entry = json.load(json_file)\n",
    "            data_entry[\"width\"] = width[:-6]\n",
    "            n_data.append(data_entry)\n",
    "    data.append(n_data)\n"
   ],
   "id": "9cbc07990dd5e24",
   "outputs": [],
   "execution_count": 46
  },
  {
   "metadata": {
    "ExecuteTime": {
     "end_time": "2024-12-16T16:16:18.476114Z",
     "start_time": "2024-12-16T16:16:18.473992Z"
    }
   },
   "cell_type": "code",
   "source": "print(generate_latex_table(data))",
   "id": "a04134e90d9c9f35",
   "outputs": [
    {
     "name": "stdout",
     "output_type": "stream",
     "text": [
      "\\hline\n",
      "\\SetRow{blue9} n & Width & Gate Count Avg. & Gate Depth Avg. & CZ Count Avg. & CZ Depth Avg. \\\\*\n",
      "\\hline\\SetRow{white} \\SetCell[r=3]{m} 3 & low & 287342.5 & 194105.5 & 104112.5 & 97398.5 \\\\*\n",
      "\\SetRow{white} & medium & 205135.0 & 131129.5 & 75095.5 & 66254.0 \\\\*\n",
      "\\SetRow{white} & high & 204789.0 & 129444.0 & 74528.5 & 65820.5 \\\\\n",
      "\\hline\n",
      "\\SetRow{blue9} \\SetCell[r=3]{m} 4 & low & 696683.0 & 474216.5 & 256040.5 & 240464.5 \\\\*\n",
      "\\SetRow{blue9} & medium & 525054.0 & 337600.5 & 191795.5 & 170510.5 \\\\*\n",
      "\\SetRow{blue9} & high & 503569.0 & 318886.0 & 184170.5 & 163101.0 \\\\\n",
      "\\hline\n",
      "\\SetRow{white} \\SetCell[r=3]{m} 5 & low & 1618855.0 & 1090041.5 & 601495.5 & 551422.0 \\\\*\n",
      "\\SetRow{white} & medium & 1049290.5 & 643624.5 & 380985.0 & 327800.0 \\\\*\n",
      "\\SetRow{white} & high & 1023224.5 & 622929.5 & 371569.0 & 318848.0 \\\\\n",
      "\\hline\n",
      "\\SetRow{blue9} \\SetCell[r=3]{m} 6 & low & 3166752.0 & 2142087.5 & 1184517.5 & 1080510.5 \\\\*\n",
      "\\SetRow{blue9} & medium & 1817606.5 & 1118709.5 & 666938.0 & 572732.0 \\\\*\n",
      "\\SetRow{blue9} & high & 1817606.5 & 1118709.5 & 666938.0 & 572732.0 \\\\\n",
      "\\hline\n",
      "\\SetRow{white} \\SetCell[r=3]{m} 7 & low & 5034872.5 & 3392332.5 & 1914415.5 & 1728559.0 \\\\*\n",
      "\\SetRow{white} & medium & 4067634.0 & 2674192.0 & 1567307.0 & 1366430.5 \\\\*\n",
      "\\SetRow{white} & high & 4091883.0 & 2681753.0 & 1567307.0 & 1366430.5 \\\\\n",
      "\\hline\n",
      "\n"
     ]
    }
   ],
   "execution_count": 47
  },
  {
   "metadata": {
    "ExecuteTime": {
     "end_time": "2024-12-16T16:16:18.525772Z",
     "start_time": "2024-12-16T16:16:18.524129Z"
    }
   },
   "cell_type": "code",
   "source": "",
   "id": "be630a2a8201c8c1",
   "outputs": [],
   "execution_count": null
  }
 ],
 "metadata": {
  "kernelspec": {
   "display_name": "Python 3",
   "language": "python",
   "name": "python3"
  },
  "language_info": {
   "codemirror_mode": {
    "name": "ipython",
    "version": 2
   },
   "file_extension": ".py",
   "mimetype": "text/x-python",
   "name": "python",
   "nbconvert_exporter": "python",
   "pygments_lexer": "ipython2",
   "version": "2.7.6"
  }
 },
 "nbformat": 4,
 "nbformat_minor": 5
}
