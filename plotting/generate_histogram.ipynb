{
 "cells": [
  {
   "metadata": {
    "ExecuteTime": {
     "end_time": "2025-01-09T15:41:16.750903Z",
     "start_time": "2025-01-09T15:41:16.748745Z"
    }
   },
   "cell_type": "code",
   "source": [
    "import os\n",
    "import matplotlib as mpl\n",
    "import matplotlib.pyplot as plt"
   ],
   "id": "67337cd68c3fe6e",
   "outputs": [],
   "execution_count": 97
  },
  {
   "metadata": {
    "collapsed": true,
    "ExecuteTime": {
     "end_time": "2025-01-09T15:41:16.759754Z",
     "start_time": "2025-01-09T15:41:16.757406Z"
    }
   },
   "cell_type": "code",
   "source": [
    "# Default installation PATH for TeXLive.\n",
    "os.environ[\"PATH\"] += os.pathsep + \"/usr/local/texlive/2024/bin/x86_64-linux/\"\n",
    "\n",
    "plt.close('all')\n",
    "mpl.use(\"pgf\")\n",
    "preamble = \"\\n\".join([\n",
    "    r\"\\usepackage{amsmath}\",\n",
    "    r\"\\usepackage{amsfonts}\",\n",
    "    r\"\\usepackage{amssymb}\"\n",
    "])\n",
    "mpl.rcParams.update({\n",
    "    \"pgf.texsystem\": \"pdflatex\",\n",
    "    'pgf.rcfonts': False,\n",
    "    'pgf.preamble': preamble,\n",
    "    'font.family': 'serif',\n",
    "    'text.usetex': True,\n",
    "    'text.latex.preamble': preamble,\n",
    "    'figure.dpi': 180\n",
    "})"
   ],
   "id": "initial_id",
   "outputs": [],
   "execution_count": 98
  },
  {
   "metadata": {
    "ExecuteTime": {
     "end_time": "2025-01-09T15:41:16.814797Z",
     "start_time": "2025-01-09T15:41:16.810663Z"
    }
   },
   "cell_type": "code",
   "source": [
    "import json\n",
    "file_path = './results_dlp/largest_instance/9.json'\n",
    "\n",
    "with open(file_path, 'r') as file:\n",
    "    # Load the JSON content into a Python dictionary\n",
    "    data = json.load(file)\n",
    "\n",
    "distribution = data[\"counts\"]\n"
   ],
   "id": "6245ce6e7ad9b4ea",
   "outputs": [],
   "execution_count": 99
  },
  {
   "metadata": {
    "ExecuteTime": {
     "end_time": "2025-01-09T15:41:16.947519Z",
     "start_time": "2025-01-09T15:41:16.860532Z"
    }
   },
   "cell_type": "code",
   "source": [
    "import numpy as np\n",
    "filtered_distribution = dict(filter(lambda item: not (isinstance(item[1], int) and item[1] < 4), distribution.items()))\n",
    "\n",
    "filtered_distribution = {key.replace(\" \", \"\"): value for key, value in filtered_distribution.items()}\n",
    "filtered_distribution = dict(sorted(filtered_distribution.items(), key=lambda x: x[0]))\n",
    "x,y = zip(*filtered_distribution.items())\n",
    "fig = plt.figure(figsize=(5, 4))\n",
    "ax = fig.gca()\n",
    "xlocs = 2*np.arange(len(x))\n",
    "\n",
    "ax.bar(xlocs, y, width=1.5, align='center')\n",
    "ax.bar_label(ax.containers[0])\n",
    "\n",
    "ax.set_xticks(xlocs)\n",
    "ax.set_xticklabels(x)\n",
    "ax.set_xlim(-2, xlocs.max() + 2)\n",
    "\n",
    "plt.ylabel('Count (\\\\# measured)', fontsize=10)\n",
    "plt.xlabel('Bit String', fontsize=10)\n",
    "plt.xticks(rotation=90)\n",
    "plt.title(\"Histogram of 2000 measurements of DLP Shor's algorithm.\", fontsize=10)\n",
    "# plt.title(\"Histogram of 100 measurements of ECDLP Shor's algorithm.\", fontsize=18)\n",
    "plt.gca().yaxis.set_major_locator(plt.MaxNLocator(integer=True))\n",
    "# plt.show()\n",
    "plt.tight_layout()\n",
    "plt.savefig(\"dlp_largest_instance_histogram.pgf\")"
   ],
   "id": "7cbeae31436c463",
   "outputs": [],
   "execution_count": 100
  },
  {
   "metadata": {
    "ExecuteTime": {
     "end_time": "2025-01-09T15:41:16.955999Z",
     "start_time": "2025-01-09T15:41:16.952599Z"
    }
   },
   "cell_type": "code",
   "source": [
    "import json\n",
    "file_path = './results_ecdlp/largest_instance/5.json'\n",
    "\n",
    "with open(file_path, 'r') as file:\n",
    "    # Load the JSON content into a Python dictionary\n",
    "    data = json.load(file)\n",
    "\n",
    "distribution = data[\"counts\"]\n"
   ],
   "id": "7e13da43d54b3edd",
   "outputs": [],
   "execution_count": 101
  },
  {
   "metadata": {
    "ExecuteTime": {
     "end_time": "2025-01-09T15:41:17.143989Z",
     "start_time": "2025-01-09T15:41:17.010629Z"
    }
   },
   "cell_type": "code",
   "source": [
    "import numpy as np\n",
    "\n",
    "filtered_distribution = {key.replace(\" \", \"\"): value for key, value in distribution.items()}\n",
    "filtered_distribution = dict(filter(lambda item: item[0].startswith('1'), filtered_distribution.items()))\n",
    "filtered_distribution = dict(sorted(filtered_distribution.items(), key=lambda x: x[0]))\n",
    "x,y = zip(*filtered_distribution.items())\n",
    "fig = plt.figure(figsize=(10,4))\n",
    "ax = fig.gca()\n",
    "xlocs = np.arange(len(x))\n",
    "\n",
    "ax.bar(xlocs, y, width=0.5, align='center')\n",
    "ax.bar_label(ax.containers[0])\n",
    "\n",
    "ax.set_xticks(xlocs)\n",
    "ax.set_xticklabels(x)\n",
    "ax.set_xlim(-1, xlocs.max() + 1)\n",
    "\n",
    "plt.ylabel('Count (\\\\# measured)', fontsize=18)\n",
    "plt.xlabel('Bit String', fontsize=18)\n",
    "plt.xticks(rotation=90)\n",
    "plt.title(\"Histogram of 100 measurements of ECDLP Shor's algorithm.\", fontsize=18)\n",
    "plt.gca().yaxis.set_major_locator(plt.MaxNLocator(integer=True))\n",
    "# plt.show()\n",
    "plt.tight_layout()\n",
    "plt.savefig(\"ecdlp_largest_instance_histogram.pgf\")"
   ],
   "id": "6265a2d9bf906016",
   "outputs": [],
   "execution_count": 102
  },
  {
   "metadata": {
    "ExecuteTime": {
     "end_time": "2025-01-09T15:41:17.150621Z",
     "start_time": "2025-01-09T15:41:17.148915Z"
    }
   },
   "cell_type": "code",
   "source": [
    "# OLD CODE\n",
    "# from qiskit.visualization import plot_histogram\n",
    "# # filtered_distribution = dict(filter(lambda item: not (isinstance(item[1], int) and item[1] < 3), distribution.items()))\n",
    "# # filtered_distribution = dict(filter(lambda item: not (isinstance(item[1], int) and item[1] < 7), distribution.items()))\n",
    "# filtered_distribution = distribution\n",
    "# plot_histogram(filtered_distribution, figsize=(20,5))\n",
    "# plt.tight_layout()\n",
    "# # plt.savefig(\"dlp_largest_instance_histogram.pgf\")\n",
    "# plt.savefig(\"ecdlp_largest_instance_histogram.pgf\")"
   ],
   "id": "a25ac8a03d28ea4d",
   "outputs": [],
   "execution_count": 103
  },
  {
   "metadata": {
    "ExecuteTime": {
     "end_time": "2025-01-09T15:41:17.192297Z",
     "start_time": "2025-01-09T15:41:17.190742Z"
    }
   },
   "cell_type": "code",
   "source": "",
   "id": "be630a2a8201c8c1",
   "outputs": [],
   "execution_count": null
  }
 ],
 "metadata": {
  "kernelspec": {
   "display_name": "Python 3",
   "language": "python",
   "name": "python3"
  },
  "language_info": {
   "codemirror_mode": {
    "name": "ipython",
    "version": 2
   },
   "file_extension": ".py",
   "mimetype": "text/x-python",
   "name": "python",
   "nbconvert_exporter": "python",
   "pygments_lexer": "ipython2",
   "version": "2.7.6"
  }
 },
 "nbformat": 4,
 "nbformat_minor": 5
}
