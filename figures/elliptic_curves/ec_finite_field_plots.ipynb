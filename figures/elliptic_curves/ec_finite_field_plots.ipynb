{
 "cells": [
  {
   "cell_type": "code",
   "metadata": {
    "ExecuteTime": {
     "end_time": "2025-01-07T13:47:11.307927Z",
     "start_time": "2025-01-07T13:47:11.303430Z"
    }
   },
   "source": [
    "%matplotlib inline\n",
    "import matplotlib as mpl\n",
    "import matplotlib.pyplot as plt\n",
    "\n",
    "plt.close('all')\n",
    "mpl.use(\"pgf\")\n",
    "preamble = \"\\n\".join([\n",
    "         r\"\\usepackage{amsmath}\",\n",
    "         r\"\\usepackage{amsfonts}\",\n",
    "         r\"\\usepackage{amssymb}\"\n",
    "    ])\n",
    "mpl.rcParams.update({\n",
    "    \"pgf.texsystem\": \"pdflatex\",\n",
    "    'pgf.rcfonts': False,\n",
    "    'pgf.preamble': preamble,\n",
    "    'font.family': 'serif',\n",
    "    'text.usetex': True,\n",
    "    'text.latex.preamble': preamble,\n",
    "    'figure.dpi': 180\n",
    "})"
   ],
   "outputs": [],
   "execution_count": 9
  },
  {
   "cell_type": "code",
   "metadata": {
    "ExecuteTime": {
     "end_time": "2025-01-07T13:47:11.565531Z",
     "start_time": "2025-01-07T13:47:11.356755Z"
    }
   },
   "source": [
    "to_plot = [(3,-5, 17), (6, -1, 29), (-3,5, 19), (-1, 0, 31), (7,9, 71)]\n",
    "for (a,b,p) in to_plot:\n",
    "    \n",
    "    points = []\n",
    "    for x in range(0, p):\n",
    "        for y in range(0, p):\n",
    "            if (y ** 2 % p == (x**3 + a*x + b) % p):\n",
    "                points.append([x, y])\n",
    "                points.append([x, -y % p])\n",
    "    \n",
    "    \n",
    "    fig, ax = plt.subplots(1,1,figsize=(3,3))\n",
    "    \n",
    "    ax.set_xlim([-0.25, p-1])\n",
    "    ax.set_ylim([-0.25, p-1])\n",
    "    ax.set_xlabel(\"$x$\")\n",
    "    ax.set_ylabel(\"$y$\")\n",
    "    # Enable grid\n",
    "    # ax.grid(linestyle='-', linewidth=2, alpha=0.5)\n",
    "    # Faint blue line along the cardinal axes.\n",
    "    #ax.axhline(y=0, color='b', alpha=0.25)\n",
    "    #ax.axvline(x=0, color='b', alpha=0.25)\n",
    "    \n",
    "    x,y = zip(*points)\n",
    "    ax.scatter(x,y, color='g', s=10)\n",
    "    ax.set_title(f\"$E: y^2 = x^3 {\"+\" if a >= 0 else \"-\"} {abs(a)}x {\"+\" if b >= 0 else \"-\"} {abs(b)},~over~\\\\mathbb{{F}}_{{{p}}}$\")\n",
    "    \n",
    "    plt.tight_layout()\n",
    "    plt.savefig(f'ec_finite_{a}_{b}.pgf')\n",
    "    plt.close(fig)"
   ],
   "outputs": [],
   "execution_count": 10
  },
  {
   "metadata": {
    "ExecuteTime": {
     "end_time": "2025-01-07T13:47:11.571733Z",
     "start_time": "2025-01-07T13:47:11.570251Z"
    }
   },
   "cell_type": "code",
   "source": "",
   "outputs": [],
   "execution_count": null
  }
 ],
 "metadata": {
  "kernelspec": {
   "display_name": "Python 3 (ipykernel)",
   "language": "python",
   "name": "python3"
  },
  "language_info": {
   "codemirror_mode": {
    "name": "ipython",
    "version": 3
   },
   "file_extension": ".py",
   "mimetype": "text/x-python",
   "name": "python",
   "nbconvert_exporter": "python",
   "pygments_lexer": "ipython3",
   "version": "3.7.0"
  }
 },
 "nbformat": 4,
 "nbformat_minor": 2
}
