{
 "cells": [
  {
   "cell_type": "code",
   "metadata": {
    "ExecuteTime": {
     "end_time": "2025-01-07T13:42:05.402406Z",
     "start_time": "2025-01-07T13:42:05.398836Z"
    }
   },
   "source": [
    "%matplotlib inline\n",
    "import matplotlib as mpl\n",
    "import matplotlib.pyplot as plt\n",
    "import numpy as np\n",
    "\n",
    "plt.close('all')\n",
    "mpl.use(\"pgf\")\n",
    "preamble = \"\\n\".join([\n",
    "         r\"\\usepackage{amsmath}\",\n",
    "         r\"\\usepackage{amsfonts}\",\n",
    "         r\"\\usepackage{amssymb}\"\n",
    "    ])\n",
    "mpl.rcParams.update({\n",
    "    \"pgf.texsystem\": \"pdflatex\",\n",
    "    'pgf.rcfonts': False,\n",
    "    'pgf.preamble': preamble,\n",
    "    'font.family': 'serif',\n",
    "    'text.usetex': True,\n",
    "    'text.latex.preamble': preamble,\n",
    "    'figure.dpi': 180\n",
    "})"
   ],
   "outputs": [],
   "execution_count": 3
  },
  {
   "cell_type": "code",
   "metadata": {
    "ExecuteTime": {
     "end_time": "2025-01-07T13:42:05.604600Z",
     "start_time": "2025-01-07T13:42:05.412481Z"
    }
   },
   "source": [
    "to_plot = [(3,5), (-1, 1), (0,7), (-1, 0), (7,0)]\n",
    "\n",
    "for (a,b) in to_plot:\n",
    "    y, x = np.ogrid[-10:10:100j, -2:7:100j]\n",
    "    \n",
    "    fig, ax=plt.subplots(1,1,figsize=(3,3))\n",
    "    \n",
    "    ax.set_xlabel(\"$x$\")\n",
    "    ax.set_ylabel(\"$y$\")\n",
    "    # Enable grid\n",
    "    # plt.grid(linestyle='-', linewidth=2, alpha=0.5)\n",
    "    # Faint blue line along the cardinal axes.\n",
    "    ax.axhline(y=0, color='b', alpha=0.25)\n",
    "    ax.axvline(x=0, color='b', alpha=0.25)\n",
    "    \n",
    "    ax.contour(x.ravel(), y.ravel(), pow(y, 2) - pow(x, 3) - x * a - b, [0], colors='g')\n",
    "    ax.set_title(f\"$E: y^2 = x^3 {\"+\" if a >= 0 else \"-\"} {abs(a)}x {\"+\" if b >= 0 else \"-\"} {abs(b)},~over~\\\\mathbb{{R}}$\")\n",
    "    \n",
    "    plt.tight_layout()\n",
    "    plt.savefig(f'ec_real_{a}_{b}.pgf')"
   ],
   "outputs": [],
   "execution_count": 4
  },
  {
   "metadata": {
    "ExecuteTime": {
     "end_time": "2025-01-07T13:42:05.609010Z",
     "start_time": "2025-01-07T13:42:05.607316Z"
    }
   },
   "cell_type": "code",
   "source": "",
   "outputs": [],
   "execution_count": null
  }
 ],
 "metadata": {
  "kernelspec": {
   "display_name": "Python 3 (ipykernel)",
   "language": "python",
   "name": "python3"
  },
  "language_info": {
   "codemirror_mode": {
    "name": "ipython",
    "version": 3
   },
   "file_extension": ".py",
   "mimetype": "text/x-python",
   "name": "python",
   "nbconvert_exporter": "python",
   "pygments_lexer": "ipython3",
   "version": "3.7.0"
  }
 },
 "nbformat": 4,
 "nbformat_minor": 2
}
