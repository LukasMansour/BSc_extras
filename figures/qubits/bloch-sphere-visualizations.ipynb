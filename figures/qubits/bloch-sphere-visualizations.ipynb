{
 "cells": [
  {
   "metadata": {
    "ExecuteTime": {
     "end_time": "2025-01-07T21:23:05.351347Z",
     "start_time": "2025-01-07T21:23:05.349511Z"
    }
   },
   "cell_type": "code",
   "source": [
    "import matplotlib as mpl\n",
    "import matplotlib.pyplot as plt"
   ],
   "id": "3155c337c9285ff8",
   "outputs": [],
   "execution_count": 3
  },
  {
   "metadata": {
    "collapsed": true,
    "ExecuteTime": {
     "end_time": "2025-01-07T21:23:05.459992Z",
     "start_time": "2025-01-07T21:23:05.366053Z"
    }
   },
   "cell_type": "code",
   "source": [
    "import os\n",
    "# Default installation PATH for TeXLive.\n",
    "os.environ[\"PATH\"] += os.pathsep + \"/usr/local/texlive/2024/bin/x86_64-linux/\"\n",
    "\n",
    "plt.close('all')\n",
    "mpl.use(\"pgf\")\n",
    "preamble = \"\\n\".join([\n",
    "    r\"\\usepackage{amsmath}\",\n",
    "    r\"\\usepackage{amsfonts}\",\n",
    "    r\"\\usepackage{amssymb}\"\n",
    "])\n",
    "mpl.rcParams.update({\n",
    "    \"pgf.texsystem\": \"pdflatex\",\n",
    "    'pgf.rcfonts': False,\n",
    "    'pgf.preamble': preamble,\n",
    "    'font.family': 'serif',\n",
    "    'text.usetex': True,\n",
    "    'text.latex.preamble': preamble,\n",
    "    'figure.dpi': 180\n",
    "})"
   ],
   "id": "initial_id",
   "outputs": [],
   "execution_count": 4
  },
  {
   "metadata": {
    "ExecuteTime": {
     "end_time": "2025-01-07T21:23:06.167137Z",
     "start_time": "2025-01-07T21:23:05.463368Z"
    }
   },
   "cell_type": "code",
   "source": [
    "from qiskit import QuantumCircuit\n",
    "from qiskit.quantum_info import Statevector\n",
    "from qiskit.visualization import plot_bloch_multivector\n",
    "from qiskit.visualization import plot_bloch_vector\n",
    "import numpy as np\n",
    "\n",
    "plot_bloch_vector([0, 0, 1], title=\"Bloch sphere visualization of $|0\\\\rangle$\", figsize=(3, 3))\n",
    "plt.savefig(\"bloch_sphere_0.pgf\")"
   ],
   "id": "63087142c1917961",
   "outputs": [],
   "execution_count": 5
  },
  {
   "metadata": {
    "ExecuteTime": {
     "end_time": "2025-01-07T21:23:06.227608Z",
     "start_time": "2025-01-07T21:23:06.172623Z"
    }
   },
   "cell_type": "code",
   "source": [
    "plot_bloch_vector([0, 0, -1], title=\"Bloch sphere visualization of $|1\\\\rangle$\", figsize=(3, 3))\n",
    "plt.savefig(\"bloch_sphere_1.pgf\")"
   ],
   "id": "bcf2b01ec505ace3",
   "outputs": [],
   "execution_count": 6
  },
  {
   "metadata": {
    "ExecuteTime": {
     "end_time": "2025-01-07T21:23:06.416733Z",
     "start_time": "2025-01-07T21:23:06.235333Z"
    }
   },
   "cell_type": "code",
   "source": [
    "qc = QuantumCircuit(3)\n",
    "qc.rx(np.pi/2, 0)\n",
    "qc.ry(np.pi/2, 1)\n",
    "qc.rz(np.pi/2, 2)\n",
    "state = Statevector(qc)\n",
    "plot_bloch_multivector(state, figsize=(2, 2))\n",
    "plt.savefig(\"rotational_bloch_sphere.pgf\")"
   ],
   "id": "9bac5896d2e731d1",
   "outputs": [],
   "execution_count": 7
  },
  {
   "metadata": {
    "ExecuteTime": {
     "end_time": "2025-01-07T21:23:06.475947Z",
     "start_time": "2025-01-07T21:23:06.422097Z"
    }
   },
   "cell_type": "code",
   "source": [
    "plot_bloch_vector([1, 0, 0], title=\"Bloch sphere visualization of $H|0\\\\rangle$\", figsize=(3, 3))\n",
    "plt.savefig(\"hadamard_bloch_sphere.pgf\")"
   ],
   "id": "5539b1bfd991dd91",
   "outputs": [],
   "execution_count": 8
  },
  {
   "metadata": {
    "ExecuteTime": {
     "end_time": "2025-01-07T21:54:49.917829Z",
     "start_time": "2025-01-07T21:54:49.843485Z"
    }
   },
   "cell_type": "code",
   "source": [
    "from qiskit.circuit.library import SGate\n",
    "qc = QuantumCircuit(2)\n",
    "qc.h(0)\n",
    "qc.x(1)\n",
    "state = Statevector(qc)\n",
    "qc.draw(output='mpl', style='clifford')\n",
    "plt.tight_layout()\n",
    "plt.savefig(\"entanglement_circuit_before.pgf\")"
   ],
   "id": "1c2ec2db7f4f7579",
   "outputs": [],
   "execution_count": 16
  },
  {
   "metadata": {
    "ExecuteTime": {
     "end_time": "2025-01-07T21:54:50.191699Z",
     "start_time": "2025-01-07T21:54:50.088287Z"
    }
   },
   "cell_type": "code",
   "source": [
    "plot_bloch_multivector(state, figsize=(2, 2))\n",
    "plt.savefig(\"entanglement_bloch_sphere_before.pgf\")"
   ],
   "id": "ec905b0e00832d8",
   "outputs": [],
   "execution_count": 17
  },
  {
   "metadata": {
    "ExecuteTime": {
     "end_time": "2025-01-07T21:54:50.403651Z",
     "start_time": "2025-01-07T21:54:50.380884Z"
    }
   },
   "cell_type": "code",
   "source": [
    "from qiskit.circuit.library import SGate\n",
    "qc = QuantumCircuit(2)\n",
    "qc.h(0)\n",
    "qc.x(1)\n",
    "qc.append(SGate().control(1), [0,1])\n",
    "state = Statevector(qc)\n",
    "qc.draw(output='mpl', style='clifford')\n",
    "plt.tight_layout()\n",
    "plt.savefig(\"entanglement_circuit_after.pgf\")"
   ],
   "id": "4d6984575f1e88f5",
   "outputs": [],
   "execution_count": 18
  },
  {
   "metadata": {
    "ExecuteTime": {
     "end_time": "2025-01-07T21:54:50.758931Z",
     "start_time": "2025-01-07T21:54:50.657605Z"
    }
   },
   "cell_type": "code",
   "source": [
    "plot_bloch_multivector(state, figsize=(2, 2))\n",
    "plt.savefig(\"entanglement_bloch_sphere_after.pgf\")"
   ],
   "id": "7904b3cdc40c9b5c",
   "outputs": [],
   "execution_count": 19
  },
  {
   "metadata": {
    "ExecuteTime": {
     "end_time": "2025-01-07T21:23:06.712771Z",
     "start_time": "2025-01-07T21:23:06.633697Z"
    }
   },
   "cell_type": "code",
   "source": [
    "from qiskit.visualization import plot_histogram\n",
    "filtered_values = {'0111110': 14, '1011110': 8, '1101011': 14, '1101101': 10, '1111100': 9, '1111111': 85, '1011111': 32, '1000111': 8, '0111111': 25, '1111101': 32, '1100111': 9, '1001111': 10, '1111011': 28, '1110111': 31, '1110110': 11, '1111001': 8, '1010111': 10, '1110011': 12, '0111011': 9, '0000000': 336, '1011011': 16, '1101110': 12, '1111010': 10, '1111110': 24, '1101111': 30}\n",
    "\n",
    "plot_histogram(filtered_values)\n",
    "plt.tight_layout()\n",
    "plt.savefig(\"shors_histogram.pgf\")"
   ],
   "id": "9fcc8c36904f333f",
   "outputs": [],
   "execution_count": 11
  },
  {
   "metadata": {
    "ExecuteTime": {
     "end_time": "2025-01-07T21:26:32.350913Z",
     "start_time": "2025-01-07T21:26:32.247483Z"
    }
   },
   "cell_type": "code",
   "source": [
    "qc = QuantumCircuit(2)\n",
    "qc.h(0)\n",
    "qc.h(1)\n",
    "qc.rz(np.pi/2, 1)\n",
    "state = Statevector(qc)\n",
    "plot_bloch_multivector(state, figsize=(2, 2))\n",
    "plt.savefig(\"local_phase_bloch_sphere.pgf\")"
   ],
   "id": "ccd47e1fc4c83485",
   "outputs": [],
   "execution_count": 13
  },
  {
   "metadata": {
    "ExecuteTime": {
     "end_time": "2025-01-07T21:23:06.823449Z",
     "start_time": "2025-01-07T21:23:06.821881Z"
    }
   },
   "cell_type": "code",
   "source": "",
   "id": "166ab6cd0e1395cd",
   "outputs": [],
   "execution_count": null
  }
 ],
 "metadata": {
  "kernelspec": {
   "display_name": "Python 3",
   "language": "python",
   "name": "python3"
  },
  "language_info": {
   "codemirror_mode": {
    "name": "ipython",
    "version": 2
   },
   "file_extension": ".py",
   "mimetype": "text/x-python",
   "name": "python",
   "nbconvert_exporter": "python",
   "pygments_lexer": "ipython2",
   "version": "2.7.6"
  }
 },
 "nbformat": 4,
 "nbformat_minor": 5
}
